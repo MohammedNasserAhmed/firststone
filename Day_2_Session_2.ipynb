{
  "nbformat": 4,
  "nbformat_minor": 0,
  "metadata": {
    "colab": {
      "name": "Day-2-Session-2.ipynb",
      "provenance": [],
      "collapsed_sections": [],
      "include_colab_link": true
    },
    "kernelspec": {
      "name": "python3",
      "display_name": "Python 3"
    }
  },
  "cells": [
    {
      "cell_type": "markdown",
      "metadata": {
        "id": "view-in-github",
        "colab_type": "text"
      },
      "source": [
        "<a href=\"https://colab.research.google.com/github/MohammedNasserAhmed/firststone/blob/master/Day_2_Session_2.ipynb\" target=\"_parent\"><img src=\"https://colab.research.google.com/assets/colab-badge.svg\" alt=\"Open In Colab\"/></a>"
      ]
    },
    {
      "cell_type": "markdown",
      "metadata": {
        "id": "9-zSytCqpG_j",
        "colab_type": "text"
      },
      "source": [
        "### Built-in Data Types: Numbers"
      ]
    },
    {
      "cell_type": "code",
      "metadata": {
        "id": "AYw8GnrVpfme",
        "colab_type": "code",
        "colab": {
          "base_uri": "https://localhost:8080/",
          "height": 86
        },
        "outputId": "a9b19eb5-4aa8-4c97-aac9-d9459428a414"
      },
      "source": [
        "num = 10\n",
        "print(\"The number (\", num, \") is of type\", type(num))\n",
        "\n",
        "num = 10.0\n",
        "print(\"The number (\", num, \") is of type\", type(num))\n",
        "\n",
        "num = 3+5j\n",
        "print(\"The number \", num, \" is of type\", type(num))\n",
        "print(\"Is the number \", num, \"a complex number?\", isinstance(3+5j, complex))"
      ],
      "execution_count": null,
      "outputs": [
        {
          "output_type": "stream",
          "text": [
            "The number ( 10 ) is of type <class 'int'>\n",
            "The number ( 10.0 ) is of type <class 'float'>\n",
            "The number  (3+5j)  is of type <class 'complex'>\n",
            "Is the number  (3+5j) a complex number? True\n"
          ],
          "name": "stdout"
        }
      ]
    },
    {
      "cell_type": "code",
      "metadata": {
        "id": "1a65-WgUXL-Z",
        "colab_type": "code",
        "colab": {
          "base_uri": "https://localhost:8080/",
          "height": 235
        },
        "outputId": "88e11237-a1ae-43c7-9a06-1efc833b961b"
      },
      "source": [
        "# Type Conversion and Input\n",
        "\n",
        "age = input('How old are you? ')\n",
        "print(age)\n",
        "print('In 5 years, your age will be', age + 5)"
      ],
      "execution_count": null,
      "outputs": [
        {
          "output_type": "stream",
          "text": [
            "How old are you? 31\n",
            "31\n"
          ],
          "name": "stdout"
        },
        {
          "output_type": "error",
          "ename": "TypeError",
          "evalue": "ignored",
          "traceback": [
            "\u001b[0;31m---------------------------------------------------------------------------\u001b[0m",
            "\u001b[0;31mTypeError\u001b[0m                                 Traceback (most recent call last)",
            "\u001b[0;32m<ipython-input-4-4bd37094676c>\u001b[0m in \u001b[0;36m<module>\u001b[0;34m()\u001b[0m\n\u001b[1;32m      3\u001b[0m \u001b[0mage\u001b[0m \u001b[0;34m=\u001b[0m \u001b[0minput\u001b[0m\u001b[0;34m(\u001b[0m\u001b[0;34m'How old are you? '\u001b[0m\u001b[0;34m)\u001b[0m\u001b[0;34m\u001b[0m\u001b[0;34m\u001b[0m\u001b[0m\n\u001b[1;32m      4\u001b[0m \u001b[0mprint\u001b[0m\u001b[0;34m(\u001b[0m\u001b[0mage\u001b[0m\u001b[0;34m)\u001b[0m\u001b[0;34m\u001b[0m\u001b[0;34m\u001b[0m\u001b[0m\n\u001b[0;32m----> 5\u001b[0;31m \u001b[0mprint\u001b[0m\u001b[0;34m(\u001b[0m\u001b[0;34m'In 5 years, your age will be'\u001b[0m\u001b[0;34m,\u001b[0m \u001b[0mage\u001b[0m \u001b[0;34m+\u001b[0m \u001b[0;36m5\u001b[0m\u001b[0;34m)\u001b[0m\u001b[0;34m\u001b[0m\u001b[0;34m\u001b[0m\u001b[0m\n\u001b[0m",
            "\u001b[0;31mTypeError\u001b[0m: must be str, not int"
          ]
        }
      ]
    },
    {
      "cell_type": "code",
      "metadata": {
        "id": "uGVSJ01LdP_c",
        "colab_type": "code",
        "colab": {}
      },
      "source": [
        "print('In 5 years, your age will be', int(age) + 5)"
      ],
      "execution_count": null,
      "outputs": []
    },
    {
      "cell_type": "markdown",
      "metadata": {
        "id": "uQTDeVCJ8r2p",
        "colab_type": "text"
      },
      "source": [
        "### Built-in Data Types: Strings"
      ]
    },
    {
      "cell_type": "code",
      "metadata": {
        "id": "o5969pIQ8iFq",
        "colab_type": "code",
        "colab": {
          "base_uri": "https://localhost:8080/",
          "height": 51
        },
        "outputId": "38a6fad9-528f-4886-8eb0-5c16b0207812"
      },
      "source": [
        "# create a string variable and assign value to it.\n",
        "\n",
        "name = 'Ashish'\n",
        "print(name)\n",
        "type(name)"
      ],
      "execution_count": null,
      "outputs": [
        {
          "output_type": "stream",
          "text": [
            "Ashish\n"
          ],
          "name": "stdout"
        },
        {
          "output_type": "execute_result",
          "data": {
            "text/plain": [
              "str"
            ]
          },
          "metadata": {
            "tags": []
          },
          "execution_count": 5
        }
      ]
    },
    {
      "cell_type": "code",
      "metadata": {
        "id": "YNGyOXZAB1eL",
        "colab_type": "code",
        "colab": {}
      },
      "source": [
        "# create another variable\n",
        "\n",
        "another_name = \"Ashish\"\n",
        "print(another_name)"
      ],
      "execution_count": null,
      "outputs": []
    },
    {
      "cell_type": "code",
      "metadata": {
        "id": "ik0j7IWZB-98",
        "colab_type": "code",
        "colab": {}
      },
      "source": [
        "# we can check if both strings are equal\n",
        "\n",
        "name == another_name"
      ],
      "execution_count": null,
      "outputs": []
    },
    {
      "cell_type": "code",
      "metadata": {
        "id": "yY6N5idKCBO5",
        "colab_type": "code",
        "colab": {}
      },
      "source": [
        "# modify 'name' to have value 'Ankit' and then again compare\n",
        "\n",
        "name = \"Ankit\"\n",
        "name == another_name\n",
        "# name != another_name"
      ],
      "execution_count": null,
      "outputs": []
    },
    {
      "cell_type": "code",
      "metadata": {
        "id": "VZh18rM5CENw",
        "colab_type": "code",
        "colab": {}
      },
      "source": [
        "# string with apostrophe\n",
        "\n",
        "name = \"intro to python\"\n",
        "descr  = 'acad's first course'"
      ],
      "execution_count": null,
      "outputs": []
    },
    {
      "cell_type": "code",
      "metadata": {
        "id": "DccDmZpjKKps",
        "colab_type": "code",
        "colab": {}
      },
      "source": [
        "'''How would you correct this?\n",
        "a. Put the whole string within double quotes.\n",
        "b. Use escape character\n",
        "'''"
      ],
      "execution_count": null,
      "outputs": []
    },
    {
      "cell_type": "code",
      "metadata": {
        "id": "eSP4dQ83C780",
        "colab_type": "code",
        "colab": {
          "base_uri": "https://localhost:8080/",
          "height": 35
        },
        "outputId": "68b19d6d-976f-4ebf-a5e4-98066412c18b"
      },
      "source": [
        "# Use of escape character '\\'(?)\n",
        "\n",
        "descr  = 'acad\\'s first course'\n",
        "print(descr)\n",
        "\n",
        "# Use of double quotes\n",
        "\n",
        "#descr = \"Everybody's course in Programming\"\n",
        "#print(descr)"
      ],
      "execution_count": null,
      "outputs": [
        {
          "output_type": "stream",
          "text": [
            "acad's first course\n"
          ],
          "name": "stdout"
        }
      ]
    },
    {
      "cell_type": "code",
      "metadata": {
        "id": "d1q4kkdFDCxd",
        "colab_type": "code",
        "colab": {}
      },
      "source": [
        "# len() method returns length of the string\n",
        "\n",
        "name = 'intro to python'\n",
        "empty = ''\n",
        "single = 'a'\n",
        "\n",
        "print(len(name), len(empty), len(single))"
      ],
      "execution_count": null,
      "outputs": []
    },
    {
      "cell_type": "code",
      "metadata": {
        "id": "2d_I-uhnhOda",
        "colab_type": "code",
        "colab": {
          "base_uri": "https://localhost:8080/",
          "height": 51
        },
        "outputId": "5d8d835e-3027-4c8b-ec7f-06129946b4f3"
      },
      "source": [
        "# What do you expect here?\n",
        "a = str(3 + 29)\n",
        "print(a)\n",
        "type(a)"
      ],
      "execution_count": null,
      "outputs": [
        {
          "output_type": "stream",
          "text": [
            "32\n"
          ],
          "name": "stdout"
        },
        {
          "output_type": "execute_result",
          "data": {
            "text/plain": [
              "str"
            ]
          },
          "metadata": {
            "tags": []
          },
          "execution_count": 19
        }
      ]
    },
    {
      "cell_type": "markdown",
      "metadata": {
        "id": "7GCOx5-8qF3u",
        "colab_type": "text"
      },
      "source": [
        "### Operations on Strings"
      ]
    },
    {
      "cell_type": "code",
      "metadata": {
        "id": "e1b-BNdpDWpu",
        "colab_type": "code",
        "colab": {}
      },
      "source": [
        "# operations on strings\n",
        "\n",
        "first_phrase = \"hello!.. \"\n",
        "second_phrase = \"Hello! Who is this?\"\n",
        "third_phrase = \"I won't fly paper airplanes in the class!\"\n",
        "\n",
        "print(first_phrase * 3) # repeats the string three times\n",
        "\n",
        "print(first_phrase + second_phrase) # concatenates the two strings\n",
        "\n",
        "print(third_phrase * 10) # repeats the string ten times"
      ],
      "execution_count": null,
      "outputs": []
    },
    {
      "cell_type": "code",
      "metadata": {
        "id": "drfwMjmNLI2d",
        "colab_type": "code",
        "colab": {}
      },
      "source": [
        "'''\n",
        "Write a script to print third_phrase 10 times, but on a new line.\n",
        "'''"
      ],
      "execution_count": null,
      "outputs": []
    },
    {
      "cell_type": "code",
      "metadata": {
        "id": "wseYS33yEWC3",
        "colab_type": "code",
        "colab": {}
      },
      "source": [
        "# concatenate more than two strings\n",
        "\n",
        "details = name + ', ' + descr\n",
        "details"
      ],
      "execution_count": null,
      "outputs": []
    },
    {
      "cell_type": "code",
      "metadata": {
        "id": "NHniuzuSxKvp",
        "colab_type": "code",
        "colab": {}
      },
      "source": [
        "'''\n",
        "What would be the result of the following statement?\n",
        "second_phrase / first_phrase\n",
        "'''"
      ],
      "execution_count": null,
      "outputs": []
    },
    {
      "cell_type": "code",
      "metadata": {
        "id": "48Lb4g73o_FV",
        "colab_type": "code",
        "colab": {
          "base_uri": "https://localhost:8080/",
          "height": 34
        },
        "outputId": "6a28595c-9d5e-4278-9bf1-11e963edb374"
      },
      "source": [
        "# Substring Membership in Strings\n",
        "'z' not in 'abc'\n",
        "#'ab' in 'abc'\n",
        "#'z' not in 'xyz'"
      ],
      "execution_count": null,
      "outputs": [
        {
          "output_type": "execute_result",
          "data": {
            "text/plain": [
              "False"
            ]
          },
          "metadata": {
            "tags": []
          },
          "execution_count": 23
        }
      ]
    },
    {
      "cell_type": "markdown",
      "metadata": {
        "id": "ggtylc2-q7mL",
        "colab_type": "text"
      },
      "source": [
        "### Indexing and Slicing in Strings"
      ]
    },
    {
      "cell_type": "code",
      "metadata": {
        "id": "cPzvl578EoT0",
        "colab_type": "code",
        "colab": {
          "base_uri": "https://localhost:8080/",
          "height": 51
        },
        "outputId": "028a7f74-cc7e-492d-8d5c-c1c4d0b3b6a0"
      },
      "source": [
        "# indexing\n",
        "\n",
        "name = 'Acads'\n",
        "\n",
        "print(name[0]) # print the first character in the string\n",
        "\n",
        "print(name[3]) # print the fourth character in the string"
      ],
      "execution_count": null,
      "outputs": [
        {
          "output_type": "stream",
          "text": [
            "A\n",
            "d\n"
          ],
          "name": "stdout"
        }
      ]
    },
    {
      "cell_type": "code",
      "metadata": {
        "id": "c6_uUKxrNX0e",
        "colab_type": "code",
        "colab": {
          "base_uri": "https://localhost:8080/",
          "height": 35
        },
        "outputId": "e8e3bf48-d78a-4309-e13c-985a49234310"
      },
      "source": [
        "'''\n",
        "What is the result of following statements?\n",
        "\n",
        "c = name[3]\n",
        "type(c)\n",
        "\n",
        "a. obj\n",
        "b. str\n",
        "c. char\n",
        "'''"
      ],
      "execution_count": null,
      "outputs": [
        {
          "output_type": "execute_result",
          "data": {
            "application/vnd.google.colaboratory.intrinsic+json": {
              "type": "string"
            },
            "text/plain": [
              "'\\nWhat is the result of following statements?\\n\\nc = name[3]\\ntype(c)\\n\\na. obj\\nb. str\\nc. char\\n'"
            ]
          },
          "metadata": {
            "tags": []
          },
          "execution_count": 9
        }
      ]
    },
    {
      "cell_type": "code",
      "metadata": {
        "id": "VSt0sDX4NVTA",
        "colab_type": "code",
        "colab": {}
      },
      "source": [
        "print(name[-6]) # get sixth character from the right side"
      ],
      "execution_count": null,
      "outputs": []
    },
    {
      "cell_type": "code",
      "metadata": {
        "id": "5BjtVXw-xyrO",
        "colab_type": "code",
        "colab": {}
      },
      "source": [
        "'''\n",
        "Which character will be returned by the following statement?\n",
        "name[5]\n",
        "'''"
      ],
      "execution_count": null,
      "outputs": []
    },
    {
      "cell_type": "code",
      "metadata": {
        "id": "gR2F6Ve6FLQh",
        "colab_type": "code",
        "colab": {
          "base_uri": "https://localhost:8080/",
          "height": 51
        },
        "outputId": "90363a02-b38d-40a1-a7a8-f1791b05a102"
      },
      "source": [
        "print(name[-1]) # print the last character\n",
        "\n",
        "print(name[-2]) # print the second last character"
      ],
      "execution_count": null,
      "outputs": [
        {
          "output_type": "stream",
          "text": [
            "s\n",
            "d\n"
          ],
          "name": "stdout"
        }
      ]
    },
    {
      "cell_type": "code",
      "metadata": {
        "id": "Nba4IHUlFRDA",
        "colab_type": "code",
        "colab": {
          "base_uri": "https://localhost:8080/",
          "height": 51
        },
        "outputId": "6359a617-9d6e-481c-c46f-fb927dbf1fe1"
      },
      "source": [
        "# substring\n",
        "\n",
        "# print first three letters\n",
        "print(name[:3]) # print(name[0:3])\n",
        "\n",
        "# print letters from index 1 to index 4\n",
        "print(name[1:5])"
      ],
      "execution_count": null,
      "outputs": [
        {
          "output_type": "stream",
          "text": [
            "Aca\n",
            "cads\n"
          ],
          "name": "stdout"
        }
      ]
    },
    {
      "cell_type": "code",
      "metadata": {
        "id": "O8Z5rNNHMPTN",
        "colab_type": "code",
        "colab": {}
      },
      "source": [
        "'''\n",
        "Can we pass slice of a string to len() method?\n",
        "'''"
      ],
      "execution_count": null,
      "outputs": []
    },
    {
      "cell_type": "code",
      "metadata": {
        "id": "4M5Hi5LJFhUe",
        "colab_type": "code",
        "colab": {
          "base_uri": "https://localhost:8080/",
          "height": 34
        },
        "outputId": "713a11ab-88bf-4d80-c811-e9ac4a504ccc"
      },
      "source": [
        "# slicing the string using 0:length gives the original string\n",
        "\n",
        "name == name[0:len(name)]"
      ],
      "execution_count": null,
      "outputs": [
        {
          "output_type": "execute_result",
          "data": {
            "text/plain": [
              "True"
            ]
          },
          "metadata": {
            "tags": []
          },
          "execution_count": 13
        }
      ]
    },
    {
      "cell_type": "code",
      "metadata": {
        "id": "svaVi5XZFu0D",
        "colab_type": "code",
        "colab": {
          "base_uri": "https://localhost:8080/",
          "height": 35
        },
        "outputId": "74d761bd-6004-460e-b966-614e4ad9a346"
      },
      "source": [
        "name[:2] # string containing characters upto index 1"
      ],
      "execution_count": null,
      "outputs": [
        {
          "output_type": "execute_result",
          "data": {
            "application/vnd.google.colaboratory.intrinsic+json": {
              "type": "string"
            },
            "text/plain": [
              "'Ac'"
            ]
          },
          "metadata": {
            "tags": []
          },
          "execution_count": 14
        }
      ]
    },
    {
      "cell_type": "code",
      "metadata": {
        "id": "K89kM7lxF0kW",
        "colab_type": "code",
        "colab": {
          "base_uri": "https://localhost:8080/",
          "height": 35
        },
        "outputId": "389230dd-4a5c-4065-f8f1-884b12d0aae7"
      },
      "source": [
        "name[:] # string containing all the characters"
      ],
      "execution_count": null,
      "outputs": [
        {
          "output_type": "execute_result",
          "data": {
            "application/vnd.google.colaboratory.intrinsic+json": {
              "type": "string"
            },
            "text/plain": [
              "'Acads'"
            ]
          },
          "metadata": {
            "tags": []
          },
          "execution_count": 15
        }
      ]
    },
    {
      "cell_type": "code",
      "metadata": {
        "id": "3Rxsm4BzF2RL",
        "colab_type": "code",
        "colab": {
          "base_uri": "https://localhost:8080/",
          "height": 69
        },
        "outputId": "8bda3f99-4f09-4fb2-840a-e7d6029ac891"
      },
      "source": [
        "print(name[-4:-1]) # substring from fourth last character to the second last character from end\n",
        "\n",
        "print(name[-4:]) # substring from fourth last character of string\n",
        "\n",
        "print(name[-4:4]) # substring from fourth last character to the character at index 3"
      ],
      "execution_count": null,
      "outputs": [
        {
          "output_type": "stream",
          "text": [
            "cad\n",
            "cads\n",
            "cad\n"
          ],
          "name": "stdout"
        }
      ]
    },
    {
      "cell_type": "code",
      "metadata": {
        "id": "R1EozfQbGXrh",
        "colab_type": "code",
        "colab": {
          "base_uri": "https://localhost:8080/",
          "height": 35
        },
        "outputId": "21872791-40e9-4d06-bd4e-f9e579457562"
      },
      "source": [
        "name[1:7] # note that the original string has only 5 characters"
      ],
      "execution_count": null,
      "outputs": [
        {
          "output_type": "execute_result",
          "data": {
            "application/vnd.google.colaboratory.intrinsic+json": {
              "type": "string"
            },
            "text/plain": [
              "'cads'"
            ]
          },
          "metadata": {
            "tags": []
          },
          "execution_count": 17
        }
      ]
    },
    {
      "cell_type": "code",
      "metadata": {
        "id": "BTwlH-EVGcKZ",
        "colab_type": "code",
        "colab": {
          "base_uri": "https://localhost:8080/",
          "height": 35
        },
        "outputId": "7223560d-3a7f-40fe-e18d-0297519dab4e"
      },
      "source": [
        "name[7:1]"
      ],
      "execution_count": null,
      "outputs": [
        {
          "output_type": "execute_result",
          "data": {
            "application/vnd.google.colaboratory.intrinsic+json": {
              "type": "string"
            },
            "text/plain": [
              "''"
            ]
          },
          "metadata": {
            "tags": []
          },
          "execution_count": 18
        }
      ]
    },
    {
      "cell_type": "code",
      "metadata": {
        "id": "vH0_z1qOraxO",
        "colab_type": "code",
        "colab": {
          "base_uri": "https://localhost:8080/",
          "height": 35
        },
        "outputId": "f446f89c-2a2a-4bef-fc9a-95bcee84c9ab"
      },
      "source": [
        "# Specifying a Stride in a String Slice\n",
        "s = \"Atul Gupta\"\n",
        "s[0:6:2]\n",
        "#s[1:6:2]"
      ],
      "execution_count": null,
      "outputs": [
        {
          "output_type": "execute_result",
          "data": {
            "application/vnd.google.colaboratory.intrinsic+json": {
              "type": "string"
            },
            "text/plain": [
              "'Au '"
            ]
          },
          "metadata": {
            "tags": []
          },
          "execution_count": 29
        }
      ]
    },
    {
      "cell_type": "markdown",
      "metadata": {
        "id": "jjwFNwjbb0X-",
        "colab_type": "text"
      },
      "source": [
        "### Other String Functions"
      ]
    },
    {
      "cell_type": "code",
      "metadata": {
        "id": "2Pf3Iicqb-mR",
        "colab_type": "code",
        "colab": {
          "base_uri": "https://localhost:8080/",
          "height": 35
        },
        "outputId": "d5ef0f0e-34c2-48af-c044-1dfdf16f835e"
      },
      "source": [
        "title = 'dell inc.'\n",
        "\n",
        "# Convert first character of the string to upper case\n",
        "title.capitalize()"
      ],
      "execution_count": null,
      "outputs": [
        {
          "output_type": "execute_result",
          "data": {
            "application/vnd.google.colaboratory.intrinsic+json": {
              "type": "string"
            },
            "text/plain": [
              "'Dell inc.'"
            ]
          },
          "metadata": {
            "tags": []
          },
          "execution_count": 1
        }
      ]
    },
    {
      "cell_type": "code",
      "metadata": {
        "id": "gTPk3kKxzxBC",
        "colab_type": "code",
        "colab": {
          "base_uri": "https://localhost:8080/",
          "height": 35
        },
        "outputId": "3396b15c-950b-4ba1-c72a-df531416ff12"
      },
      "source": [
        "title = 'DELL INC.'\n",
        "\n",
        "# Convert case\n",
        "title.casefold()"
      ],
      "execution_count": null,
      "outputs": [
        {
          "output_type": "execute_result",
          "data": {
            "application/vnd.google.colaboratory.intrinsic+json": {
              "type": "string"
            },
            "text/plain": [
              "'dell inc.'"
            ]
          },
          "metadata": {
            "tags": []
          },
          "execution_count": 2
        }
      ]
    },
    {
      "cell_type": "code",
      "metadata": {
        "id": "_shdC7uNz_LS",
        "colab_type": "code",
        "colab": {
          "base_uri": "https://localhost:8080/",
          "height": 34
        },
        "outputId": "f716164a-4fcd-4825-f49d-d7f5344c670a"
      },
      "source": [
        "# count how many times a letter occurs in a string\n",
        "title.count('L')"
      ],
      "execution_count": null,
      "outputs": [
        {
          "output_type": "execute_result",
          "data": {
            "text/plain": [
              "2"
            ]
          },
          "metadata": {
            "tags": []
          },
          "execution_count": 3
        }
      ]
    },
    {
      "cell_type": "code",
      "metadata": {
        "id": "27aVXLVJ0vd8",
        "colab_type": "code",
        "colab": {
          "base_uri": "https://localhost:8080/",
          "height": 34
        },
        "outputId": "874a7241-9e7f-4b65-f838-6f9f7045c3a0"
      },
      "source": [
        "# get the position of a character in a string\n",
        "title.find('C')"
      ],
      "execution_count": null,
      "outputs": [
        {
          "output_type": "execute_result",
          "data": {
            "text/plain": [
              "7"
            ]
          },
          "metadata": {
            "tags": []
          },
          "execution_count": 4
        }
      ]
    },
    {
      "cell_type": "code",
      "metadata": {
        "id": "-51MKeN60_OO",
        "colab_type": "code",
        "colab": {}
      },
      "source": [
        "'''\n",
        "What happens if we pass a character that is not present in the string?\n",
        "'''"
      ],
      "execution_count": null,
      "outputs": []
    },
    {
      "cell_type": "code",
      "metadata": {
        "id": "L9shcUcE1IJG",
        "colab_type": "code",
        "colab": {
          "base_uri": "https://localhost:8080/",
          "height": 35
        },
        "outputId": "c453866b-5c36-4768-a57b-00ad00ac4314"
      },
      "source": [
        "# check if the string ends with a specified value\n",
        "title.endswith('inc.')"
      ],
      "execution_count": null,
      "outputs": [
        {
          "output_type": "execute_result",
          "data": {
            "text/plain": [
              "False"
            ]
          },
          "metadata": {
            "tags": []
          },
          "execution_count": 30
        }
      ]
    },
    {
      "cell_type": "code",
      "metadata": {
        "id": "vEvGzSdj1ga1",
        "colab_type": "code",
        "colab": {}
      },
      "source": [
        "'''\n",
        "Modify above statement so that it returns True.\n",
        "'''"
      ],
      "execution_count": null,
      "outputs": []
    },
    {
      "cell_type": "code",
      "metadata": {
        "id": "77mGl2mm1wcB",
        "colab_type": "code",
        "colab": {
          "base_uri": "https://localhost:8080/",
          "height": 34
        },
        "outputId": "a63de1fb-1eb9-45be-d819-038e96a82cc3"
      },
      "source": [
        "name = '1st Python Programming Course !'\n",
        "\n",
        "name.isalnum() # checks if all characters in a string are alphaneumeric"
      ],
      "execution_count": null,
      "outputs": [
        {
          "output_type": "execute_result",
          "data": {
            "text/plain": [
              "False"
            ]
          },
          "metadata": {
            "tags": []
          },
          "execution_count": 11
        }
      ]
    },
    {
      "cell_type": "code",
      "metadata": {
        "id": "NLU6ajKT2WY1",
        "colab_type": "code",
        "colab": {
          "base_uri": "https://localhost:8080/",
          "height": 52
        },
        "outputId": "87ffad90-c1a2-48d9-9c66-8d082e03c518"
      },
      "source": [
        "# lets get rid of '!'\n",
        "# we replace '!' with 'nothing'\n",
        "print(name)\n",
        "name.replace('!', '')"
      ],
      "execution_count": null,
      "outputs": [
        {
          "output_type": "stream",
          "text": [
            "1st Python Programming Course !\n"
          ],
          "name": "stdout"
        },
        {
          "output_type": "execute_result",
          "data": {
            "application/vnd.google.colaboratory.intrinsic+json": {
              "type": "string"
            },
            "text/plain": [
              "'1st Python Programming Course '"
            ]
          },
          "metadata": {
            "tags": []
          },
          "execution_count": 12
        }
      ]
    },
    {
      "cell_type": "code",
      "metadata": {
        "id": "mpQTJ-pk28k0",
        "colab_type": "code",
        "colab": {}
      },
      "source": [
        "'''\n",
        "What would be the result of the following statement at this point of time?\n",
        "print(name)\n",
        "\n",
        "a. 1st Python Programming Course\n",
        "b. 1st Python Programming Course!\n",
        "'''"
      ],
      "execution_count": null,
      "outputs": []
    },
    {
      "cell_type": "code",
      "metadata": {
        "id": "8Xsf5rMPOfJ1",
        "colab_type": "code",
        "colab": {}
      },
      "source": [
        "'''\n",
        "If your answer is option b,\n",
        "then modify statments in above cells to get option a as the answer.\n",
        "'''"
      ],
      "execution_count": null,
      "outputs": []
    },
    {
      "cell_type": "code",
      "metadata": {
        "id": "RCUWvkfh5taF",
        "colab_type": "code",
        "colab": {
          "base_uri": "https://localhost:8080/",
          "height": 69
        },
        "outputId": "597e6f63-9ff8-4a7f-f90f-5e313e79f854"
      },
      "source": [
        "# check if all characters in the string are:\n",
        "# uppercase or lowercase\n",
        "# or if the string follow all rules of a title\n",
        "\n",
        "name = 'Python Programming Course!'\n",
        "\n",
        "print(name.isupper())\n",
        "\n",
        "print(name.islower())\n",
        "\n",
        "print(name.istitle())"
      ],
      "execution_count": null,
      "outputs": [
        {
          "output_type": "stream",
          "text": [
            "False\n",
            "False\n",
            "False\n"
          ],
          "name": "stdout"
        }
      ]
    },
    {
      "cell_type": "code",
      "metadata": {
        "id": "tI3LzPa_6nIm",
        "colab_type": "code",
        "colab": {
          "base_uri": "https://localhost:8080/",
          "height": 34
        },
        "outputId": "a9f681e4-a316-4aea-a83a-041ca6fa841d"
      },
      "source": [
        "# join a list of elements in an iterable with a '-'\n",
        "\n",
        "print('-'.join(['Welcome', 'to', 'this', 'course!']))"
      ],
      "execution_count": null,
      "outputs": [
        {
          "output_type": "stream",
          "text": [
            "Welcome-to-this-course!\n"
          ],
          "name": "stdout"
        }
      ]
    },
    {
      "cell_type": "code",
      "metadata": {
        "id": "tlqBoWrW5N3K",
        "colab_type": "code",
        "colab": {
          "base_uri": "https://localhost:8080/",
          "height": 35
        },
        "outputId": "65bbca13-63c8-4170-8564-7cdf1a18a40e"
      },
      "source": [
        "string = 'atukl1'\n",
        "\n",
        "# check if the string is an identifier (?)\n",
        "string.isidentifier()"
      ],
      "execution_count": null,
      "outputs": [
        {
          "output_type": "execute_result",
          "data": {
            "text/plain": [
              "False"
            ]
          },
          "metadata": {
            "tags": []
          },
          "execution_count": 36
        }
      ]
    },
    {
      "cell_type": "markdown",
      "metadata": {
        "id": "Rfu9Io-I9cig",
        "colab_type": "text"
      },
      "source": [
        "# Unpacking a string"
      ]
    },
    {
      "cell_type": "code",
      "metadata": {
        "id": "b2uS8Kjq8EtM",
        "colab_type": "code",
        "colab": {
          "base_uri": "https://localhost:8080/",
          "height": 35
        },
        "outputId": "f117f9f5-6b84-47c2-b485-bc36d0bf468f"
      },
      "source": [
        "# split the string at specified seperator\n",
        "\n",
        "name.split(' ')"
      ],
      "execution_count": null,
      "outputs": [
        {
          "output_type": "execute_result",
          "data": {
            "text/plain": [
              "['Python', 'Programming', 'course!']"
            ]
          },
          "metadata": {
            "tags": []
          },
          "execution_count": 37
        }
      ]
    },
    {
      "cell_type": "code",
      "metadata": {
        "id": "xrLSI6a_-YxE",
        "colab_type": "code",
        "colab": {}
      },
      "source": [
        "'''\n",
        "Check the type of object returned by split() method.\n",
        "'''"
      ],
      "execution_count": null,
      "outputs": []
    },
    {
      "cell_type": "code",
      "metadata": {
        "id": "_PipeLXU9bTK",
        "colab_type": "code",
        "colab": {
          "base_uri": "https://localhost:8080/",
          "height": 35
        },
        "outputId": "59b9008c-9821-4e61-bd2f-c4454d532efa"
      },
      "source": [
        "initials = 'USA'\n",
        "\n",
        "# unpack the string to get the characters (?)\n",
        "a, b, c = initials\n",
        "\n",
        "print(a, b, c)"
      ],
      "execution_count": null,
      "outputs": [
        {
          "output_type": "stream",
          "text": [
            "U S A\n"
          ],
          "name": "stdout"
        }
      ]
    },
    {
      "cell_type": "markdown",
      "metadata": {
        "id": "PfWWf_Y9cAOm",
        "colab_type": "text"
      },
      "source": [
        "###Some Example Programs on Strings"
      ]
    },
    {
      "cell_type": "code",
      "metadata": {
        "id": "AvOKQhjUcIrG",
        "colab_type": "code",
        "colab": {
          "base_uri": "https://localhost:8080/",
          "height": 35
        },
        "outputId": "af014b4f-77a1-474e-9084-6312fe34a9f9"
      },
      "source": [
        "# More compact way..\n",
        "\n",
        "txt = \"Hello World\"[::-1]\n",
        "print(txt)"
      ],
      "execution_count": null,
      "outputs": [
        {
          "output_type": "stream",
          "text": [
            "dlroW olleH\n"
          ],
          "name": "stdout"
        }
      ]
    },
    {
      "cell_type": "code",
      "metadata": {
        "id": "OvKa-02iBFHa",
        "colab_type": "code",
        "colab": {
          "base_uri": "https://localhost:8080/",
          "height": 34
        },
        "outputId": "eb0535fc-9d0f-4c02-9b44-2352dc653c03"
      },
      "source": [
        "# last occurance of a substring\n",
        "\n",
        "txt = 'the the loudest word ever shouted is probably the word quiet'\n",
        "substring = 'word'\n",
        "index = txt.rfind(substring)\n",
        "print(\"Last occurrence of '%s' starts at %d\" % (substring, index))"
      ],
      "execution_count": null,
      "outputs": [
        {
          "output_type": "stream",
          "text": [
            "Last occurrence of 'word' starts at 50\n"
          ],
          "name": "stdout"
        }
      ]
    },
    {
      "cell_type": "code",
      "metadata": {
        "id": "IMPJjwNrDqOB",
        "colab_type": "code",
        "colab": {}
      },
      "source": [
        "# given an odd length string, get middle three characters\n",
        "\n",
        "smapleStr = 'nationalist'\n",
        "middleIndex = int(len(sampleStr) /2)\n",
        "print(\"Original String is\", sampleStr)\n",
        "middleThree = sampleStr[middleIndex-1:middleIndex+2]\n",
        "print(\"Middle three chars are\", middleThree)"
      ],
      "execution_count": null,
      "outputs": []
    }
  ]
}