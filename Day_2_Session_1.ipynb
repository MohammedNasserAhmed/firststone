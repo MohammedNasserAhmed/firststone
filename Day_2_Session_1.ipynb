{
  "nbformat": 4,
  "nbformat_minor": 0,
  "metadata": {
    "colab": {
      "name": "Day-2-Session-1.ipynb",
      "provenance": [],
      "collapsed_sections": [],
      "include_colab_link": true
    },
    "kernelspec": {
      "name": "python3",
      "display_name": "Python 3"
    }
  },
  "cells": [
    {
      "cell_type": "markdown",
      "metadata": {
        "id": "view-in-github",
        "colab_type": "text"
      },
      "source": [
        "<a href=\"https://colab.research.google.com/github/MohammedNasserAhmed/firststone/blob/master/Day_2_Session_1.ipynb\" target=\"_parent\"><img src=\"https://colab.research.google.com/assets/colab-badge.svg\" alt=\"Open In Colab\"/></a>"
      ]
    },
    {
      "cell_type": "markdown",
      "metadata": {
        "id": "oHtfbayyt6RB",
        "colab_type": "text"
      },
      "source": [
        "#Variables"
      ]
    },
    {
      "cell_type": "code",
      "metadata": {
        "id": "zSmPNy4FqRpo",
        "colab_type": "code",
        "colab": {}
      },
      "source": [
        "# declaring and initializing the variables\n",
        "\n",
        "m = 64\n",
        "c = 'acads'\n",
        "f = 3.1416"
      ],
      "execution_count": null,
      "outputs": []
    },
    {
      "cell_type": "code",
      "metadata": {
        "id": "6XZdoxbiqiW9",
        "colab_type": "code",
        "colab": {
          "base_uri": "https://localhost:8080/",
          "height": 34
        },
        "outputId": "882cf417-a15e-4379-a235-189b77e8c1b3"
      },
      "source": [
        "# print the value held by 'f'\n",
        "\n",
        "print(f)"
      ],
      "execution_count": null,
      "outputs": [
        {
          "output_type": "stream",
          "text": [
            "3.1416\n"
          ],
          "name": "stdout"
        }
      ]
    },
    {
      "cell_type": "code",
      "metadata": {
        "id": "Hw3vzh3qqmc9",
        "colab_type": "code",
        "colab": {
          "base_uri": "https://localhost:8080/",
          "height": 34
        },
        "outputId": "65d7dd39-ae88-4d05-acbb-0f865d4c2656"
      },
      "source": [
        "# assign new value to the existing variable\n",
        "\n",
        "f = 2.7183\n",
        "print(f)"
      ],
      "execution_count": null,
      "outputs": [
        {
          "output_type": "stream",
          "text": [
            "2.7183\n"
          ],
          "name": "stdout"
        }
      ]
    },
    {
      "cell_type": "code",
      "metadata": {
        "id": "Zs0_JwS29XZh",
        "colab_type": "code",
        "colab": {
          "base_uri": "https://localhost:8080/",
          "height": 34
        },
        "outputId": "1eb96762-f1c7-46b8-95be-2c70b1aee6cd"
      },
      "source": [
        "# You can even change the type \n",
        "\n",
        "f = \"first day session 3\"\n",
        "print(f)"
      ],
      "execution_count": null,
      "outputs": [
        {
          "output_type": "stream",
          "text": [
            "first day session 3\n"
          ],
          "name": "stdout"
        }
      ]
    },
    {
      "cell_type": "code",
      "metadata": {
        "id": "JObnwHooquw9",
        "colab_type": "code",
        "colab": {
          "base_uri": "https://localhost:8080/",
          "height": 173
        },
        "outputId": "38e25408-bcaa-47d1-e109-d5b31972a2ab"
      },
      "source": [
        "# valid variable names\n",
        "\"\"\"This is a doc string.\n",
        "It can span multiple lines.\n",
        "Like I am spanning 3 lines\"\"\"\n",
        "\n",
        "i = 5\n",
        "count = 0\n",
        "Lab5 = 'python data types'\n",
        "max_profit = 100\n",
        "_left = False\n",
        "fUnNy = 5.7\n",
        "\n",
        "print(\"i =\", i)\n",
        "print(\"count =\", count)\n",
        "print(\"Lab5 = \", Lab5)\n",
        "print(\"max_profit =\", max_profit)\n",
        "print(\"_left =\", _left)\n",
        "print(\"fUnNy =\", fUnNy)\n",
        "print(mcomment)"
      ],
      "execution_count": null,
      "outputs": [
        {
          "output_type": "stream",
          "text": [
            "i = 5\n",
            "count = 0\n",
            "Lab5 =  python data types\n",
            "max_profit = 100\n",
            "_left = False\n",
            "fUnNy = 5.7\n",
            "This is a doc string.\n",
            "It can multiple lines.\n",
            "Like I am spanning 3 lines\n"
          ],
          "name": "stdout"
        }
      ]
    },
    {
      "cell_type": "code",
      "metadata": {
        "id": "LRm4cw-tryXp",
        "colab_type": "code",
        "colab": {}
      },
      "source": [
        "# invalid variable names\n",
        "\n",
        "# 5j = 50\n",
        "# min profit = 10.4\n",
        "# lab.7 = 'data science'"
      ],
      "execution_count": null,
      "outputs": []
    },
    {
      "cell_type": "code",
      "metadata": {
        "id": "D6Kf9XDFsb5v",
        "colab_type": "code",
        "colab": {
          "base_uri": "https://localhost:8080/",
          "height": 54
        },
        "outputId": "0ca89401-5a5f-4686-ec0e-7d887ab9f673"
      },
      "source": [
        "# get a list of keywords in python\n",
        "\n",
        "import keyword #import the package 'keyword'\n",
        "\n",
        "print(keyword.kwlist)"
      ],
      "execution_count": null,
      "outputs": [
        {
          "output_type": "stream",
          "text": [
            "['False', 'None', 'True', 'and', 'as', 'assert', 'break', 'class', 'continue', 'def', 'del', 'elif', 'else', 'except', 'finally', 'for', 'from', 'global', 'if', 'import', 'in', 'is', 'lambda', 'nonlocal', 'not', 'or', 'pass', 'raise', 'return', 'try', 'while', 'with', 'yield']\n"
          ],
          "name": "stdout"
        }
      ]
    },
    {
      "cell_type": "code",
      "metadata": {
        "id": "Ryf1x1fAs0dy",
        "colab_type": "code",
        "colab": {
          "base_uri": "https://localhost:8080/",
          "height": 132
        },
        "outputId": "dfc97982-a45a-4b05-b7a2-d71abb2a7f66"
      },
      "source": [
        "# keywords cannot be used as a variable name. Note that 'class' is a keyword in python.\n",
        "\n",
        "# class = 6.4"
      ],
      "execution_count": null,
      "outputs": [
        {
          "output_type": "error",
          "ename": "SyntaxError",
          "evalue": "ignored",
          "traceback": [
            "\u001b[0;36m  File \u001b[0;32m\"<ipython-input-16-66fc782a5237>\"\u001b[0;36m, line \u001b[0;32m3\u001b[0m\n\u001b[0;31m    class = 6.4\u001b[0m\n\u001b[0m          ^\u001b[0m\n\u001b[0;31mSyntaxError\u001b[0m\u001b[0;31m:\u001b[0m invalid syntax\n"
          ]
        }
      ]
    },
    {
      "cell_type": "code",
      "metadata": {
        "id": "UdJuTTfqtW4F",
        "colab_type": "code",
        "colab": {
          "base_uri": "https://localhost:8080/",
          "height": 34
        },
        "outputId": "bedfbf1f-d6da-4d13-ab8f-28200497be5e"
      },
      "source": [
        "# variable names are case sensitive. So 'number' and 'NumBer' will be treated as a different variables.\n",
        "\n",
        "number = 100\n",
        "NumBer = 201\n",
        "print(NumBer, number)\n"
      ],
      "execution_count": null,
      "outputs": [
        {
          "output_type": "stream",
          "text": [
            "201 100\n"
          ],
          "name": "stdout"
        }
      ]
    },
    {
      "cell_type": "code",
      "metadata": {
        "id": "RriSQgFZ9zoY",
        "colab_type": "code",
        "colab": {
          "base_uri": "https://localhost:8080/",
          "height": 34
        },
        "outputId": "3220d486-e1ad-484e-a238-9cd279142ec2"
      },
      "source": [
        "# Formatted output: Extra space here and there\n",
        "print('The value of NumBer', NumBer, ' is greater than the value of ', number, '. Thats it!!')"
      ],
      "execution_count": null,
      "outputs": [
        {
          "output_type": "stream",
          "text": [
            "The value of NumBer 201  is greater than the value of  100 . Thats it!!\n"
          ],
          "name": "stdout"
        }
      ]
    },
    {
      "cell_type": "code",
      "metadata": {
        "id": "IeOxXNv2-2u3",
        "colab_type": "code",
        "colab": {
          "base_uri": "https://localhost:8080/",
          "height": 34
        },
        "outputId": "7fb77419-d7ef-485a-c727-07a8a216a389"
      },
      "source": [
        "# Formatted output, without unwanted space\n",
        "print('The value of NumBer is {} which is greater than {}. Thats it.'.format(NumBer, number*2))"
      ],
      "execution_count": null,
      "outputs": [
        {
          "output_type": "stream",
          "text": [
            "The value of NumBer is 201 which is greater than 200. Thats it.\n"
          ],
          "name": "stdout"
        }
      ]
    },
    {
      "cell_type": "markdown",
      "metadata": {
        "id": "iGETDVD0tu5J",
        "colab_type": "text"
      },
      "source": [
        "#Assignment Statement"
      ]
    },
    {
      "cell_type": "code",
      "metadata": {
        "id": "QFaZCP1FnyF_",
        "colab_type": "code",
        "colab": {}
      },
      "source": [
        "# to assign a value to a variable, '=' operator (assignment operator) can be used.\n",
        "\n",
        "x = 10"
      ],
      "execution_count": null,
      "outputs": []
    },
    {
      "cell_type": "code",
      "metadata": {
        "id": "QVVdx251uQNw",
        "colab_type": "code",
        "colab": {
          "base_uri": "https://localhost:8080/",
          "height": 34
        },
        "outputId": "3e820e03-fde1-4454-bd6d-6c35674f1176"
      },
      "source": [
        "# expression on the RHS is first evaluated before assigning the value\n",
        "\n",
        "#b = 3\n",
        "#a = 8\n",
        "#c = 4 \n",
        "b, a, c = 3, 8, 4\n",
        "\n",
        "disc_2 = b * b - 4 * a * c\n",
        "print(disc_2)"
      ],
      "execution_count": null,
      "outputs": [
        {
          "output_type": "stream",
          "text": [
            "-119\n"
          ],
          "name": "stdout"
        }
      ]
    },
    {
      "cell_type": "code",
      "metadata": {
        "id": "y0MpYAFqoiX8",
        "colab_type": "code",
        "colab": {}
      },
      "source": [
        "count = 5\n",
        "\n",
        "count = count + 1\n",
        "\n",
        "count"
      ],
      "execution_count": null,
      "outputs": []
    },
    {
      "cell_type": "code",
      "metadata": {
        "id": "39ZopgVAprQn",
        "colab_type": "code",
        "colab": {
          "base_uri": "https://localhost:8080/",
          "height": 34
        },
        "outputId": "602834f8-9f23-4eb2-89df-e71cbf964398"
      },
      "source": [
        "# initializing multiple variables\n",
        "\n",
        "x , y = 10, 12\n",
        "print(x, y)"
      ],
      "execution_count": null,
      "outputs": [
        {
          "output_type": "stream",
          "text": [
            "10 12\n"
          ],
          "name": "stdout"
        }
      ]
    },
    {
      "cell_type": "code",
      "metadata": {
        "id": "CTdZFMa4p6Zr",
        "colab_type": "code",
        "colab": {
          "base_uri": "https://localhost:8080/",
          "height": 34
        },
        "outputId": "c8ccd1ae-6d33-4d94-9add-09dc7423bfc1"
      },
      "source": [
        "# increament values of both the variables by 1\n",
        "\n",
        "x, y = x+1, y+1\n",
        "print(x, y)"
      ],
      "execution_count": null,
      "outputs": [
        {
          "output_type": "stream",
          "text": [
            "11 13\n"
          ],
          "name": "stdout"
        }
      ]
    },
    {
      "cell_type": "code",
      "metadata": {
        "id": "5skAroWDqFG6",
        "colab_type": "code",
        "colab": {
          "base_uri": "https://localhost:8080/",
          "height": 34
        },
        "outputId": "5193fcd0-65a2-4ca6-82f4-41f4192e5fb5"
      },
      "source": [
        "# comments in python\n",
        "\n",
        "pi = 3.14\n",
        "radius = 10\n",
        "\n",
        "diameter = 2 * radius # diameter of the circle\n",
        "area = pi * radius * radius # and its area\n",
        "\n",
        "print(diameter, area)"
      ],
      "execution_count": null,
      "outputs": [
        {
          "output_type": "stream",
          "text": [
            "20 314.0\n"
          ],
          "name": "stdout"
        }
      ]
    },
    {
      "cell_type": "markdown",
      "metadata": {
        "id": "HhwDfoqgwKA4",
        "colab_type": "text"
      },
      "source": [
        "# Types"
      ]
    },
    {
      "cell_type": "code",
      "metadata": {
        "id": "5ajC_XY9p4QN",
        "colab_type": "code",
        "colab": {}
      },
      "source": [
        "# type() method can be used to see the type of an object passed to it\n",
        "\n",
        "type(500)"
      ],
      "execution_count": null,
      "outputs": []
    },
    {
      "cell_type": "code",
      "metadata": {
        "id": "c5fO98Qrr8rH",
        "colab_type": "code",
        "colab": {}
      },
      "source": [
        "type(-200)"
      ],
      "execution_count": null,
      "outputs": []
    },
    {
      "cell_type": "code",
      "metadata": {
        "id": "3UMHrPqpp7Bu",
        "colab_type": "code",
        "colab": {}
      },
      "source": [
        "type(3.1413)"
      ],
      "execution_count": null,
      "outputs": []
    },
    {
      "cell_type": "code",
      "metadata": {
        "id": "EIjydw3dp9Qe",
        "colab_type": "code",
        "colab": {}
      },
      "source": [
        "type(True)"
      ],
      "execution_count": null,
      "outputs": []
    },
    {
      "cell_type": "code",
      "metadata": {
        "id": "X34cV0CAsmdL",
        "colab_type": "code",
        "colab": {}
      },
      "source": [
        "type(3 != 2)"
      ],
      "execution_count": null,
      "outputs": []
    },
    {
      "cell_type": "code",
      "metadata": {
        "id": "FPpNt2TWwVaN",
        "colab_type": "code",
        "colab": {}
      },
      "source": [
        "# explicit type conversion\n",
        "\n",
        "int(2.5)"
      ],
      "execution_count": null,
      "outputs": []
    },
    {
      "cell_type": "code",
      "metadata": {
        "id": "NPfzrBCDwmsC",
        "colab_type": "code",
        "colab": {}
      },
      "source": [
        "int(2.3)"
      ],
      "execution_count": null,
      "outputs": []
    },
    {
      "cell_type": "code",
      "metadata": {
        "id": "_C5rGWxbwphE",
        "colab_type": "code",
        "colab": {}
      },
      "source": [
        "int(3.9)"
      ],
      "execution_count": null,
      "outputs": []
    },
    {
      "cell_type": "code",
      "metadata": {
        "id": "XX8HFPSfwsSN",
        "colab_type": "code",
        "colab": {}
      },
      "source": [
        "float(3)"
      ],
      "execution_count": null,
      "outputs": []
    },
    {
      "cell_type": "code",
      "metadata": {
        "id": "DnN6_OyiwuUT",
        "colab_type": "code",
        "colab": {}
      },
      "source": [
        "int('73')+2"
      ],
      "execution_count": null,
      "outputs": []
    },
    {
      "cell_type": "code",
      "metadata": {
        "id": "ayGGm5eawybb",
        "colab_type": "code",
        "colab": {}
      },
      "source": [
        "int('Acads')"
      ],
      "execution_count": null,
      "outputs": []
    },
    {
      "cell_type": "code",
      "metadata": {
        "id": "ruvVrFtMtGxY",
        "colab_type": "code",
        "colab": {}
      },
      "source": [
        "str(3.14)"
      ],
      "execution_count": null,
      "outputs": []
    },
    {
      "cell_type": "code",
      "metadata": {
        "id": "yd77290ttJw3",
        "colab_type": "code",
        "colab": {}
      },
      "source": [
        "str(26000)"
      ],
      "execution_count": null,
      "outputs": []
    },
    {
      "cell_type": "code",
      "metadata": {
        "id": "WwmuGaC4w1DL",
        "colab_type": "code",
        "colab": {
          "base_uri": "https://localhost:8080/",
          "height": 34
        },
        "outputId": "289f42f4-ced8-426a-8377-fa70e0dc3e93"
      },
      "source": [
        "# Type Conversion and Input\n",
        "\n",
        "age = input('How old are you? ')\n",
        "age = int(age)"
      ],
      "execution_count": null,
      "outputs": [
        {
          "output_type": "stream",
          "text": [
            "How old are you? 42\n"
          ],
          "name": "stdout"
        }
      ]
    },
    {
      "cell_type": "code",
      "metadata": {
        "id": "6xKRPAaZxLq4",
        "colab_type": "code",
        "colab": {
          "base_uri": "https://localhost:8080/",
          "height": 166
        },
        "outputId": "04611b21-376d-4f67-de04-7a4cf6b08103"
      },
      "source": [
        "print('In 5 years, your age will be', age + 5)"
      ],
      "execution_count": null,
      "outputs": [
        {
          "output_type": "error",
          "ename": "TypeError",
          "evalue": "ignored",
          "traceback": [
            "\u001b[0;31m---------------------------------------------------------------------------\u001b[0m",
            "\u001b[0;31mTypeError\u001b[0m                                 Traceback (most recent call last)",
            "\u001b[0;32m<ipython-input-29-3686c4284f5e>\u001b[0m in \u001b[0;36m<module>\u001b[0;34m()\u001b[0m\n\u001b[0;32m----> 1\u001b[0;31m \u001b[0mprint\u001b[0m\u001b[0;34m(\u001b[0m\u001b[0;34m'In 5 years, your age will be'\u001b[0m\u001b[0;34m,\u001b[0m \u001b[0mage\u001b[0m \u001b[0;34m+\u001b[0m \u001b[0;36m5\u001b[0m\u001b[0;34m)\u001b[0m\u001b[0;34m\u001b[0m\u001b[0;34m\u001b[0m\u001b[0m\n\u001b[0m",
            "\u001b[0;31mTypeError\u001b[0m: must be str, not int"
          ]
        }
      ]
    },
    {
      "cell_type": "code",
      "metadata": {
        "colab_type": "code",
        "id": "ECMTjgC7Ev_a",
        "colab": {
          "base_uri": "https://localhost:8080/",
          "height": 34
        },
        "outputId": "080431f5-0f8a-4374-cd1a-24da6b72df94"
      },
      "source": [
        "print('The double of your age will be', age * 2)"
      ],
      "execution_count": null,
      "outputs": [
        {
          "output_type": "stream",
          "text": [
            "The double of your age will be 4242\n"
          ],
          "name": "stdout"
        }
      ]
    },
    {
      "cell_type": "code",
      "metadata": {
        "id": "1S2kDICmxVaF",
        "colab_type": "code",
        "colab": {
          "base_uri": "https://localhost:8080/",
          "height": 34
        },
        "outputId": "a32b8ee8-57d5-4f17-dbfb-c509a1843dcc"
      },
      "source": [
        "print('In 5 years, your age will be', int(age) + 5)"
      ],
      "execution_count": null,
      "outputs": [
        {
          "output_type": "stream",
          "text": [
            "In 5 years, your age will be 47\n"
          ],
          "name": "stdout"
        }
      ]
    },
    {
      "cell_type": "code",
      "metadata": {
        "colab_type": "code",
        "id": "ih11MftyE9vT",
        "colab": {
          "base_uri": "https://localhost:8080/",
          "height": 34
        },
        "outputId": "6f888e86-ad72-4757-95ce-d3434836deff"
      },
      "source": [
        "print('The double of your age will be', int(age) * 2)"
      ],
      "execution_count": null,
      "outputs": [
        {
          "output_type": "stream",
          "text": [
            "The double of your age will be 84\n"
          ],
          "name": "stdout"
        }
      ]
    },
    {
      "cell_type": "code",
      "metadata": {
        "id": "9R0XpCXc-Tjp",
        "colab_type": "code",
        "colab": {
          "base_uri": "https://localhost:8080/",
          "height": 52
        },
        "outputId": "525b4c02-9db7-4d9c-dda0-5b52d81bc1dc"
      },
      "source": [
        "str, type  = type, str\n",
        "\n",
        "print('The type of value 3.14 is', type(3.14))\n",
        "print('The value of str(3.14) =', str(3.14))"
      ],
      "execution_count": null,
      "outputs": [
        {
          "output_type": "stream",
          "text": [
            "The type of value 3.14 is 3.14\n",
            "The value of str(3.14) = <class 'float'>\n"
          ],
          "name": "stdout"
        }
      ]
    },
    {
      "cell_type": "markdown",
      "metadata": {
        "id": "eGljLrSSywKD",
        "colab_type": "text"
      },
      "source": [
        "# Operators and Expressions"
      ]
    },
    {
      "cell_type": "code",
      "metadata": {
        "id": "avEW5w8zxhDz",
        "colab_type": "code",
        "colab": {
          "base_uri": "https://localhost:8080/",
          "height": 190
        },
        "outputId": "27c000a9-9a17-4cd2-c15c-8a1ae1b6d5de"
      },
      "source": [
        "# binary operators +, -, *, /, //, %\n",
        "\n",
        "print(9 + 2)\n",
        "print(9.1 + 2.0)\n",
        "\n",
        "print(9 - 2)\n",
        "print(9.1 - 2.0)\n",
        "\n",
        "print(9 * 2)\n",
        "print(9.1 * 2.0)\n",
        "\n",
        "print(9 / 2)\n",
        "print(9.1 / 2.0)\n",
        "\n",
        "print(9 // 2)\n",
        "\n",
        "print(9 % 2)"
      ],
      "execution_count": null,
      "outputs": [
        {
          "output_type": "stream",
          "text": [
            "11\n",
            "11.1\n",
            "7\n",
            "7.1\n",
            "18\n",
            "18.2\n",
            "4.5\n",
            "4.55\n",
            "4\n",
            "1\n"
          ],
          "name": "stdout"
        }
      ]
    },
    {
      "cell_type": "code",
      "metadata": {
        "id": "JP2u4TZctouK",
        "colab_type": "code",
        "colab": {
          "base_uri": "https://localhost:8080/",
          "height": 121
        },
        "outputId": "6960ec91-1727-47f1-a565-a33809e1fd93"
      },
      "source": [
        "# the // operator\n",
        "\n",
        "print(9//4)\n",
        "\n",
        "print(-1 // 2)\n",
        "\n",
        "print((-1)// (-2))\n",
        "\n",
        "print(1/-2)\n",
        "\n",
        "print(1 // (-2))\n",
        "str, type  = type, str\n",
        "\n",
        "print('The value and type of 9 // 4.5 are {} {}'.format(9//4.5, type(9//4.5)))"
      ],
      "execution_count": null,
      "outputs": [
        {
          "output_type": "stream",
          "text": [
            "2\n",
            "-1\n",
            "0\n",
            "-0.5\n",
            "-1\n",
            "The value and type of 9 // 4.5 are 2.0 <class 'float'>\n"
          ],
          "name": "stdout"
        }
      ]
    },
    {
      "cell_type": "code",
      "metadata": {
        "id": "ZKXqDLsauDi7",
        "colab_type": "code",
        "colab": {
          "base_uri": "https://localhost:8080/",
          "height": 121
        },
        "outputId": "10f1c9fc-8679-4f2b-fa4c-2683e35cb1f2"
      },
      "source": [
        "# the % operator\n",
        "\n",
        "print(9 % 4)\n",
        "\n",
        "print((-1) % 2)\n",
        "\n",
        "print((-1) % (-2))\n",
        "\n",
        "print(1 % 0.6)\n",
        "\n",
        "print(1 % (-2))\n",
        "\n",
        "print(9 % 4.5)"
      ],
      "execution_count": null,
      "outputs": [
        {
          "output_type": "stream",
          "text": [
            "1\n",
            "1\n",
            "-1\n",
            "0.4\n",
            "-1\n",
            "0.0\n"
          ],
          "name": "stdout"
        }
      ]
    },
    {
      "cell_type": "code",
      "metadata": {
        "id": "le_Amj9V7TPI",
        "colab_type": "code",
        "colab": {
          "base_uri": "https://localhost:8080/",
          "height": 34
        },
        "outputId": "e6279b35-479b-4401-e16c-d5e45cf567c4"
      },
      "source": [
        "'''\n",
        "Guess result of the expression below:\n",
        "'''\n",
        "x = -5 * 4 // 2 * 3 + -1 * 2\n",
        "print(x)"
      ],
      "execution_count": null,
      "outputs": [
        {
          "output_type": "stream",
          "text": [
            "-32\n"
          ],
          "name": "stdout"
        }
      ]
    }
  ]
}